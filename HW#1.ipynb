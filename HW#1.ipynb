{
 "cells": [
  {
   "cell_type": "code",
   "execution_count": 81,
   "metadata": {},
   "outputs": [
    {
     "name": "stdin",
     "output_type": "stream",
     "text": [
      "Enter a number:  99\n"
     ]
    },
    {
     "name": "stdout",
     "output_type": "stream",
     "text": [
      "[2, 3, 5, 7, 11, 13, 17, 19, 23, 29, 31, 37, 41, 43, 47, 53, 59, 61, 67, 71, 73, 79, 83, 89, 97]\n"
     ]
    }
   ],
   "source": [
    "import random\n",
    "\n",
    "mylist = []\n",
    "\n",
    "end = int(input(\"Enter a number: \"))\n",
    "  \n",
    "for i in range(2, end+1): \n",
    "    if i > 1: \n",
    "        for j in range(2,i): \n",
    "            if(i % j == 0): \n",
    "                break\n",
    "        else: \n",
    "            mylist.append(i) \n",
    "print(mylist)"
   ]
  },
  {
   "cell_type": "code",
   "execution_count": 77,
   "metadata": {},
   "outputs": [
    {
     "name": "stdout",
     "output_type": "stream",
     "text": [
      "[3, 59, 19, 47, 71, 31, 37, 83, 79]\n"
     ]
    }
   ],
   "source": [
    "matrixlist1 = random.sample(mylist,9)\n",
    "\n",
    "print(matrixlist1)\n",
    "\n",
    "#matrixlist2 = random.sample(mylist,3)\n",
    "\n",
    "#print(matrixlist2)"
   ]
  },
  {
   "cell_type": "code",
   "execution_count": 68,
   "metadata": {},
   "outputs": [
    {
     "name": "stdout",
     "output_type": "stream",
     "text": [
      "[['0,0', '0,1', '0,2'], ['1,0', '1,1', '1,2'], ['2,0', '2,1', '2,2']]\n"
     ]
    }
   ],
   "source": [
    "#rows =3\n",
    "#columns= 3\n",
    "#mylist = [[(matrixlist) for x in range(columns)] for x in range(rows)]\n",
    "#for i in range(rows):\n",
    "#     for j in range(columns):\n",
    "#        mylist[i][j] = '%s,%s'%(i,j)\n",
    "#print (mylist)"
   ]
  },
  {
   "cell_type": "code",
   "execution_count": 80,
   "metadata": {},
   "outputs": [
    {
     "name": "stdin",
     "output_type": "stream",
     "text": [
      "Enter size of column:  3\n",
      "Enter size of row:  3\n"
     ]
    },
    {
     "ename": "TypeError",
     "evalue": "'list' object cannot be interpreted as an integer",
     "output_type": "error",
     "traceback": [
      "\u001b[1;31m---------------------------------------------------------------------------\u001b[0m",
      "\u001b[1;31mTypeError\u001b[0m                                 Traceback (most recent call last)",
      "\u001b[1;32m<ipython-input-80-d2e06102c442>\u001b[0m in \u001b[0;36m<module>\u001b[1;34m\u001b[0m\n\u001b[0;32m      8\u001b[0m \u001b[0mb\u001b[0m \u001b[1;33m=\u001b[0m \u001b[1;33m[\u001b[0m\u001b[1;33m]\u001b[0m\u001b[1;33m\u001b[0m\u001b[1;33m\u001b[0m\u001b[0m\n\u001b[0;32m      9\u001b[0m \u001b[1;31m#Initialize the column.\u001b[0m\u001b[1;33m\u001b[0m\u001b[1;33m\u001b[0m\u001b[1;33m\u001b[0m\u001b[0m\n\u001b[1;32m---> 10\u001b[1;33m \u001b[1;32mfor\u001b[0m \u001b[0mj\u001b[0m \u001b[1;32min\u001b[0m \u001b[0mrange\u001b[0m\u001b[1;33m(\u001b[0m\u001b[0mmatrixlist\u001b[0m\u001b[1;33m,\u001b[0m \u001b[0mcolumn_size\u001b[0m\u001b[1;33m)\u001b[0m\u001b[1;33m:\u001b[0m\u001b[1;33m\u001b[0m\u001b[1;33m\u001b[0m\u001b[0m\n\u001b[0m\u001b[0;32m     11\u001b[0m \u001b[1;31m#    b.append(0)\u001b[0m\u001b[1;33m\u001b[0m\u001b[1;33m\u001b[0m\u001b[1;33m\u001b[0m\u001b[0m\n\u001b[0;32m     12\u001b[0m \u001b[1;31m#Append the column to each row.\u001b[0m\u001b[1;33m\u001b[0m\u001b[1;33m\u001b[0m\u001b[1;33m\u001b[0m\u001b[0m\n",
      "\u001b[1;31mTypeError\u001b[0m: 'list' object cannot be interpreted as an integer"
     ]
    }
   ],
   "source": [
    "column_size = int(input(\"Enter size of column: \"))\n",
    "\n",
    "row_size = int(input(\"Enter size of row: \"))\n",
    "\n",
    "#Declaring an empty 1D array.\n",
    "a = []\n",
    "#Declaring an empty 1D array.\n",
    "b = []\n",
    "#Initialize the column.\n",
    "for j in range(0, column_size):\n",
    "#    b.append(0)\n",
    "#Append the column to each row.\n",
    "    for i in range(0, row_size):\n",
    "        a.append(b)\n",
    "#Printing the 2d created array\n",
    "print(a)"
   ]
  },
  {
   "cell_type": "code",
   "execution_count": null,
   "metadata": {},
   "outputs": [],
   "source": []
  }
 ],
 "metadata": {
  "kernelspec": {
   "display_name": "Python 3",
   "language": "python",
   "name": "python3"
  },
  "language_info": {
   "codemirror_mode": {
    "name": "ipython",
    "version": 3
   },
   "file_extension": ".py",
   "mimetype": "text/x-python",
   "name": "python",
   "nbconvert_exporter": "python",
   "pygments_lexer": "ipython3",
   "version": "3.8.5"
  }
 },
 "nbformat": 4,
 "nbformat_minor": 4
}
