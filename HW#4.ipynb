{
 "cells": [
  {
   "cell_type": "code",
   "execution_count": null,
   "metadata": {},
   "outputs": [
    {
     "name": "stdin",
     "output_type": "stream",
     "text": [
      "Enter your name Murat\n"
     ]
    },
    {
     "name": "stdout",
     "output_type": "stream",
     "text": [
      "Hello Murat let's start playing Hangman!\n",
      "Let the fun begin!\n"
     ]
    },
    {
     "name": "stdin",
     "output_type": "stream",
     "text": [
      "To start the game press Y for begin / X to exit y\n"
     ]
    },
    {
     "name": "stdout",
     "output_type": "stream",
     "text": [
      "Your Secret word is: __________\n",
      "The number of allowed guesses for this word is: 12\n",
      "Guess a letter:\n"
     ]
    },
    {
     "name": "stdin",
     "output_type": "stream",
     "text": [
      " A\n"
     ]
    },
    {
     "name": "stdout",
     "output_type": "stream",
     "text": [
      "Nice guess!\n",
      "You have  11 guess left!\n",
      "Your Secret word is: A_________\n",
      "Guess a letter:\n"
     ]
    },
    {
     "name": "stdin",
     "output_type": "stream",
     "text": [
      " r\n"
     ]
    },
    {
     "name": "stdout",
     "output_type": "stream",
     "text": [
      "Nice guess!\n",
      "You have  10 guess left!\n",
      "Your Secret word is: AR________\n",
      "Guess a letter:\n"
     ]
    },
    {
     "name": "stdin",
     "output_type": "stream",
     "text": [
      " artificial\n"
     ]
    },
    {
     "name": "stdout",
     "output_type": "stream",
     "text": [
      "Oops! Try again.\n",
      "You have  9 guess left!\n",
      "Your Secret word is: AR________\n",
      "Guess a letter:\n"
     ]
    },
    {
     "name": "stdin",
     "output_type": "stream",
     "text": [
      " t\n"
     ]
    },
    {
     "name": "stdout",
     "output_type": "stream",
     "text": [
      "Nice guess!\n",
      "You have  8 guess left!\n",
      "Your Secret word is: ART_______\n",
      "Guess a letter:\n"
     ]
    },
    {
     "name": "stdin",
     "output_type": "stream",
     "text": [
      " \n"
     ]
    },
    {
     "name": "stdout",
     "output_type": "stream",
     "text": [
      "Oops! Try again.\n",
      "You have  7 guess left!\n",
      "Your Secret word is: ART_______\n",
      "Guess a letter:\n"
     ]
    },
    {
     "name": "stdin",
     "output_type": "stream",
     "text": [
      " i\n"
     ]
    },
    {
     "name": "stdout",
     "output_type": "stream",
     "text": [
      "Nice guess!\n",
      "You have  6 guess left!\n",
      "Your Secret word is: ARTI_I_I__\n",
      "Guess a letter:\n"
     ]
    },
    {
     "name": "stdin",
     "output_type": "stream",
     "text": [
      " c\n"
     ]
    },
    {
     "name": "stdout",
     "output_type": "stream",
     "text": [
      "Nice guess!\n",
      "You have  5 guess left!\n",
      "Your Secret word is: ARTI_ICI__\n",
      "Guess a letter:\n"
     ]
    },
    {
     "name": "stdin",
     "output_type": "stream",
     "text": [
      " f\n"
     ]
    },
    {
     "name": "stdout",
     "output_type": "stream",
     "text": [
      "Nice guess!\n",
      "You have  4 guess left!\n",
      "Your Secret word is: ARTIFICI__\n",
      "Guess a letter:\n"
     ]
    },
    {
     "name": "stdin",
     "output_type": "stream",
     "text": [
      " l\n"
     ]
    },
    {
     "name": "stdout",
     "output_type": "stream",
     "text": [
      "Nice guess!\n",
      "You have  3 guess left!\n",
      "Your Secret word is: ARTIFICI_L\n",
      "Guess a letter:\n"
     ]
    },
    {
     "name": "stdin",
     "output_type": "stream",
     "text": [
      " a\n"
     ]
    },
    {
     "name": "stdout",
     "output_type": "stream",
     "text": [
      "Nice guess!\n",
      "You have  2 guess left!\n",
      "Your Secret word is: ARTIFICIAL\n",
      "Yay! you won.\n",
      "Your Secret word is: ARTIFICIAL_____\n",
      "The number of allowed guesses for this word is: 7\n",
      "Guess a letter:\n"
     ]
    },
    {
     "name": "stdin",
     "output_type": "stream",
     "text": [
      " a\n"
     ]
    },
    {
     "name": "stdout",
     "output_type": "stream",
     "text": [
      "You already guessed this letter, try something else.\n",
      "Guess a letter:\n"
     ]
    }
   ],
   "source": [
    "import random, time\n",
    "Words = ['Python', 'Programming', 'Machine' , 'Artificial', 'Computer','Keras','Pytorch']\n",
    "userGuesslist = []\n",
    "userGuesses = []\n",
    "playGame = True\n",
    "category = \"\"\n",
    "continueGame = \"Y\"\n",
    "\n",
    "name = input(\"Enter your name\")\n",
    "print(\"Hello\", name.capitalize(), \"let's start playing Hangman!\")\n",
    "time.sleep(1)\n",
    "print(\"Let the fun begin!\")\n",
    "time.sleep(1)\n",
    "\n",
    "while True:\n",
    "    #Choosing the Secret word\n",
    "    while True:\n",
    "        if category.upper() == 'Y':\n",
    "            secretWord = random.choice(Words)\n",
    "            break\n",
    "        else:\n",
    "            category = input(\"To start the game press Y for begin / X to exit\")\n",
    "\n",
    "        if category.upper() == 'X':\n",
    "            print(\"Bye. See you next time!\")\n",
    "            playGame = False\n",
    "            break\n",
    "\n",
    "    if playGame:\n",
    "        secretWordList = list(secretWord)\n",
    "        attempts = (len(secretWord) + 2)\n",
    "\n",
    "        \n",
    "        def printGuessedLetter():\n",
    "            print(\"Your Secret word is: \" + ''.join(userGuesslist))\n",
    "\n",
    "\n",
    "        \n",
    "        for n in secretWordList:\n",
    "            userGuesslist.append('_')\n",
    "        printGuessedLetter()\n",
    "\n",
    "        print(\"The number of allowed guesses for this word is:\", attempts)\n",
    "\n",
    "\n",
    "        #starting the game\n",
    "        while True:\n",
    "\n",
    "            print(\"Guess a letter:\")\n",
    "            letter = input()\n",
    "\n",
    "            if letter in userGuesses:\n",
    "                print(\"You already guessed this letter, try something else.\")\n",
    "\n",
    "            else:\n",
    "                attempts -= 1\n",
    "                userGuesses.append(letter)\n",
    "                if letter in secretWordList:\n",
    "                    print(\"Nice guess!\")\n",
    "                    if attempts > 0:\n",
    "                        print(\"You have \", attempts, 'guess left!')\n",
    "                    for i in range(len(secretWordList)):\n",
    "                        if letter == secretWordList[i]:\n",
    "                            letterIndex = i\n",
    "                            userGuesslist[letterIndex] = letter.upper()\n",
    "                    printGuessedLetter()\n",
    "\n",
    "                else:\n",
    "                    print(\"Oops! Try again.\")\n",
    "                    if attempts > 0:\n",
    "                        print(\"You have \", attempts, 'guess left!')\n",
    "                    printGuessedLetter()\n",
    "\n",
    "\n",
    "            #Win/loss \n",
    "            joinedList = ''.join(userGuesslist)\n",
    "            if joinedList.upper() == secretWord.upper():\n",
    "                print(\"Yay! you won.\")\n",
    "                break\n",
    "            elif attempts == 0:\n",
    "                print(\"Too many Guesses!, Sorry better luck next time.\")\n",
    "                print(\"The secret word was: \"+ secretWord.upper())\n",
    "                break\n"
   ]
  },
  {
   "cell_type": "code",
   "execution_count": null,
   "metadata": {},
   "outputs": [],
   "source": []
  }
 ],
 "metadata": {
  "kernelspec": {
   "display_name": "Python 3",
   "language": "python",
   "name": "python3"
  },
  "language_info": {
   "codemirror_mode": {
    "name": "ipython",
    "version": 3
   },
   "file_extension": ".py",
   "mimetype": "text/x-python",
   "name": "python",
   "nbconvert_exporter": "python",
   "pygments_lexer": "ipython3",
   "version": "3.8.5"
  }
 },
 "nbformat": 4,
 "nbformat_minor": 4
}
