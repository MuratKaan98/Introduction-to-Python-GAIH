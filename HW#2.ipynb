{
 "cells": [
  {
   "cell_type": "code",
   "execution_count": 38,
   "metadata": {},
   "outputs": [
    {
     "name": "stdout",
     "output_type": "stream",
     "text": [
      "['Murat Kaan ÖZCAN', (50, 68, 75), 'Mete Han MEHTAP', (58, 65, 81), 'Salih İZGİ', (35, 42, 50), 'ÜmitCan KIZILKAYA', (70, 80, 85), 'Furkan UYSAL', (60, 65, 45)]\n",
      "['Murat Kaan ÖZCAN', 'Mete Han MEHTAP', 'Salih İZGİ', 'ÜmitCan KIZILKAYA', 'Furkan UYSAL']\n"
     ]
    }
   ],
   "source": [
    "Grades0 = (50,68,75)\n",
    "Avg0 = (Grades0[0] + Grades0[1] + Grades0[2]) / 3\n",
    "\n",
    "Grades1 = (58,65,81)\n",
    "Avg1 = (Grades1[0] + Grades1[1] + Grades1[2]) / 3\n",
    "\n",
    "Grades2 = (35,42,50)\n",
    "Avg2 = (Grades2[0] + Grades2[1] + Grades2[2]) / 3\n",
    "\n",
    "Grades3 = (70,80,85)\n",
    "Avg3 = (Grades3[0] + Grades3[1] + Grades3[2]) / 3\n",
    "\n",
    "Grades4 = (60,65,45)\n",
    "Avg4 = (Grades4[0] + Grades4[1] + Grades4[2]) / 3\n",
    "\n",
    "Students = [\"Murat Kaan ÖZCAN\" , \"Mete Han MEHTAP\" , \"Salih İZGİ\",\"ÜmitCan KIZILKAYA\" , \"Furkan UYSAL\"]\n",
    "\n",
    "Grades = [Students[0], Grades0, Students[1] , Grades1 , Students[2], Grades2, Students[3],Grades3 , Students[4] ,Grades4]\n",
    "\n",
    "print(Grades)\n",
    "\n",
    "print(Students)\n",
    "\n"
   ]
  },
  {
   "cell_type": "code",
   "execution_count": 45,
   "metadata": {},
   "outputs": [
    {
     "data": {
      "text/plain": [
       "{'Murat Kaan ÖZCAN': 64.33333333333333,\n",
       " 'Mete Han MEHTAP': 68.0,\n",
       " 'Salih İZGİ': 42.333333333333336,\n",
       " 'ÜmitCan KIZILKAYA': 78.33333333333333,\n",
       " 'Furkan UYSAL': 56.666666666666664}"
      ]
     },
     "execution_count": 45,
     "metadata": {},
     "output_type": "execute_result"
    }
   ],
   "source": [
    "info = {\"Murat Kaan ÖZCAN\":Avg0, Students[1] : Avg1, Students[2] : Avg2, Students[3] : Avg3 , Students[4] : Avg4}\n",
    "#type(info)\n",
    "#print(info)\n",
    "\n",
    "#info[\"Murat Kaan ÖZCAN\"]\n",
    "\n",
    "#info[Students[1]]\n",
    "info"
   ]
  },
  {
   "cell_type": "code",
   "execution_count": 46,
   "metadata": {},
   "outputs": [
    {
     "name": "stdout",
     "output_type": "stream",
     "text": [
      "ÜmitCan KIZILKAYA 78.33333333333333\n",
      "Mete Han MEHTAP 68.0\n",
      "Murat Kaan ÖZCAN 64.33333333333333\n",
      "Furkan UYSAL 56.666666666666664\n",
      "Salih İZGİ 42.333333333333336\n"
     ]
    }
   ],
   "source": [
    "sort_info = sorted(info.items(), key=lambda x: x[1], reverse=True) \n",
    "\n",
    "for i in sort_info:\n",
    "        print(i[0], i[1])"
   ]
  },
  {
   "cell_type": "code",
   "execution_count": 49,
   "metadata": {},
   "outputs": [
    {
     "data": {
      "text/plain": [
       "('ÜmitCan KIZILKAYA', 78.33333333333333)"
      ]
     },
     "execution_count": 49,
     "metadata": {},
     "output_type": "execute_result"
    }
   ],
   "source": [
    "sort_info[0]"
   ]
  },
  {
   "cell_type": "code",
   "execution_count": null,
   "metadata": {},
   "outputs": [],
   "source": []
  }
 ],
 "metadata": {
  "kernelspec": {
   "display_name": "Python 3",
   "language": "python",
   "name": "python3"
  },
  "language_info": {
   "codemirror_mode": {
    "name": "ipython",
    "version": 3
   },
   "file_extension": ".py",
   "mimetype": "text/x-python",
   "name": "python",
   "nbconvert_exporter": "python",
   "pygments_lexer": "ipython3",
   "version": "3.8.5"
  }
 },
 "nbformat": 4,
 "nbformat_minor": 4
}
